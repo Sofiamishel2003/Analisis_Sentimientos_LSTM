{
 "cells": [
  {
   "cell_type": "markdown",
   "metadata": {
    "id": "HO4Yvxr1PbBT"
   },
   "source": [
    "## Análisis de Sentimientos de críticas de películas\n",
    "\n",
    "Junto con Keras, viene un ejemplo imdb_lstm.py. Este ejercicio esta prácticamente basado en él.\n",
    "\n",
    "Es un gran ejemplo del uso de las RNNs.  El conjunto de datos que se utilizará consta de críticas de películas generadas por usuarios, y una classificación indicando si le gustó, o no, basado en su rating asociado. \n",
    "\n",
    "Hay más información de este conjunto de datos en:\n",
    "\n",
    "https://keras.io/datasets/#imdb-movie-reviews-sentiment-classification\n",
    "\n",
    "Como la comprensión del lenguaje escrito requiere \"llevar cuenta\" de todas las palabras en una oración, necesitamos una RNN para mantener una \"memoria\" de las palabras que pasaron antes, conforme va \"leyendo\" oraciones a lo largo del tiempo. \n",
    "\n",
    "En particular, se usarán unidades LSTM (Long Short-Term Memory) porque no es deseable \"olvidar\" palabras demasiado rápido...las palabras al inicio de una oración pueden afectar el significado de la misma grandemente.\n",
    "\n",
    "Empezamos por la importación de lo que se requiere:"
   ]
  },
  {
   "cell_type": "code",
   "execution_count": 4,
   "metadata": {
    "id": "-5GymP2ePbBc"
   },
   "outputs": [],
   "source": [
    "import tensorflow as tf\n",
    "from tensorflow.keras.preprocessing import sequence\n",
    "from tensorflow.keras.models import Sequential\n",
    "from tensorflow.keras.layers import Dense, Embedding\n",
    "from tensorflow.keras.layers import LSTM\n",
    "from tensorflow.keras.datasets import imdb"
   ]
  },
  {
   "cell_type": "markdown",
   "metadata": {
    "id": "1aFJnFb7PbBd"
   },
   "source": [
    "Ahora importar los datos para entrenamiento y prueba.  Para que sea más manejable, se especifica que se quieren solamente las 20,000 palabras más populares en el conjunto de datos. Por algún motivo, este conjunto tiene una relación de 50% entreno y 50% prueba. "
   ]
  },
  {
   "cell_type": "code",
   "execution_count": 5,
   "metadata": {
    "colab": {
     "base_uri": "https://localhost:8080/"
    },
    "id": "ThMIo9DYPbBd",
    "outputId": "0dbe0c33-c2b7-427c-e4ac-fc97e80cee85"
   },
   "outputs": [
    {
     "name": "stdout",
     "output_type": "stream",
     "text": [
      "Cargando los datos...\n"
     ]
    }
   ],
   "source": [
    "print('Cargando los datos...')\n",
    "(X_train, y_train), (X_test, y_test) = imdb.load_data(num_words=50000)"
   ]
  },
  {
   "cell_type": "code",
   "execution_count": 6,
   "metadata": {
    "tags": []
   },
   "outputs": [
    {
     "data": {
      "text/plain": [
       "25000"
      ]
     },
     "execution_count": 6,
     "metadata": {},
     "output_type": "execute_result"
    }
   ],
   "source": [
    "len(X_train)"
   ]
  },
  {
   "cell_type": "code",
   "execution_count": 7,
   "metadata": {
    "tags": []
   },
   "outputs": [
    {
     "data": {
      "text/plain": [
       "25000"
      ]
     },
     "execution_count": 7,
     "metadata": {},
     "output_type": "execute_result"
    }
   ],
   "source": [
    "len(X_test)"
   ]
  },
  {
   "cell_type": "markdown",
   "metadata": {
    "id": "-_EZvv_6PbBd"
   },
   "source": [
    "A ver cómo son los datos, el primer elemento de entrenamiento debe ser una crítica de una película:"
   ]
  },
  {
   "cell_type": "code",
   "execution_count": 8,
   "metadata": {
    "colab": {
     "base_uri": "https://localhost:8080/"
    },
    "id": "xPsneaWNPbBe",
    "outputId": "cc84e444-4b55-4a9f-f3db-068d91ec85c8"
   },
   "outputs": [
    {
     "data": {
      "text/plain": [
       "(25000,)"
      ]
     },
     "execution_count": 8,
     "metadata": {},
     "output_type": "execute_result"
    }
   ],
   "source": [
    "X_train.shape"
   ]
  },
  {
   "cell_type": "markdown",
   "metadata": {
    "id": "hoHWVuCEPbBe"
   },
   "source": [
    "Esto no parece una crítica de una película!!!!  Resulta que la gente que preparó los datos ya hizo algo de preparación previa de los datos.  Estos números coinciden con el índice correspondiente a cada palabra de la crítica.  En realidad las palabras en sí, no son de interés...el modelo requiere números no palabras. \n",
    "\n",
    "Lo triste es que no será posible leer las críticas...siquiera para tener una idea de si funciona el análiisis, o no.\n",
    "\n",
    "Y, ¿cómo son las etiquetas (metas)?"
   ]
  },
  {
   "cell_type": "code",
   "execution_count": 9,
   "metadata": {
    "colab": {
     "base_uri": "https://localhost:8080/"
    },
    "id": "hxKy_iFPPbBe",
    "outputId": "7fd0922e-9098-4b26-c8d2-078a296c1074"
   },
   "outputs": [
    {
     "data": {
      "text/plain": [
       "1"
      ]
     },
     "execution_count": 9,
     "metadata": {},
     "output_type": "execute_result"
    }
   ],
   "source": [
    "y_train[0]"
   ]
  },
  {
   "cell_type": "markdown",
   "metadata": {
    "id": "sPLmsWk5PbBe"
   },
   "source": [
    "Son simplemente 0 ó 1, que indica sí al que escribió la crítica le gustó, o no, la película.\n",
    "\n",
    "Para resumir, para el entrenamiento se tiene un conjunto de críticas de películas que han sido convertidas a vectores de palabras representadas por enteros, y una clasificación de sentimiento binaria.\n",
    "\n",
    "Las RNNs pueden \"explotar\" muy rápidamente (se habló de esto en clase).  Para que no se sobrecarguen las PCs que se podrían usar, se limitarán las críticas a las primeras 80 palabras:"
   ]
  },
  {
   "cell_type": "code",
   "execution_count": 10,
   "metadata": {
    "id": "td7nNbGcPbBf"
   },
   "outputs": [],
   "source": [
    "X_train = sequence.pad_sequences(X_train, maxlen = 80)\n",
    "X_test = sequence.pad_sequences(X_test, maxlen = 80)"
   ]
  },
  {
   "cell_type": "markdown",
   "metadata": {
    "id": "FUFGeOFOPbBf"
   },
   "source": [
    "## Configuración del modelo\n",
    "\n",
    "Considerando lo complejo que es una RNN LSTM (debajo del \"capó\"), es increíble lo simple que resulta esta parte utilizando Keras.\n",
    "\n",
    "Se empieza con una capa de incrustación \"embedded\".  La función de esta es convertir los datos de entrada a vectores densos de un tamaño fijo que son más adecuados para una red neuronal.  Esto es típico cuando se manejan indices de datos basados en texto.  El 20,000 representa el tamaño del vocabulario (límite impuesto para este ejercicio, pero puede variarse dependiendo de la capacidad de cómputo que se tiene) y 128 es la dimensión de 128 unidades de salida.\n",
    "\n",
    "Luego se coloca una capa LSTM y ya!  Se especifica 128 para igualar la salida de la capa de incrustación, y se utiliza la opción de \"botar\" unidades para evitar el sobre ajuste, que es una característica muy común de las RNN.\n",
    "\n",
    "Finalmente se debe reducir todo a una unidad de salida con una función de activación sigmoidal para seleccionar la clasificación binaria de sentimiento de 0 ó 1."
   ]
  },
  {
   "cell_type": "code",
   "execution_count": 18,
   "metadata": {
    "id": "TrgEmhr2PbBf"
   },
   "outputs": [],
   "source": [
    "from tensorflow.keras import regularizers\n",
    "from tensorflow.keras.layers import Dropout\n",
    "\n"
   ]
  },
  {
   "cell_type": "markdown",
   "metadata": {
    "id": "L1bd9f8FPbBg"
   },
   "source": [
    "Ya que este es un problema de clasificación binaria, la mejor función de pérdida es la \"binary_crossentropy\".  También se utiliza el optimizador \"Adam\" que es uno de los mejores.  Siempre es de recordar que si es necesario afinar más el modelo, se pueden probar otras."
   ]
  },
  {
   "cell_type": "markdown",
   "metadata": {
    "id": "_gWoZ4vUPbBg"
   },
   "source": [
    "## Entrenamiento\n",
    "\n",
    "Las RNNs, al igual que las CNNs son bastante pesadas en el uso de recursos.  Para poder utilizar una PC normal, el mantener el tamaño de las tandas pequeño, es clave.  En un mundo más profesional, se estaría sacando ventaja de GPUs instaladas en un cluster de computadoras para tener un mejor rendimiento.\n",
    "\n",
    "## Advertencia\n",
    "\n",
    "Esto puede tardarse bastante tiempo, aún en una PC potente!  A menos que se quiera ver todo el proceso y esperar una o más horas, no ejecute las siguientes celdas de código.\n",
    "\n",
    "Esta siguiente celda es solo para quienes estén utilizando tensorflow-gpu con Windows.  Sirve para evitar problemas de asignación de memoria."
   ]
  },
  {
   "cell_type": "code",
   "execution_count": 35,
   "metadata": {
    "colab": {
     "base_uri": "https://localhost:8080/",
     "height": 419
    },
    "id": "FwA5wk8iPbBg",
    "outputId": "ff2825e2-c524-4cdf-d8ca-1a91fa6a46d6"
   },
   "outputs": [],
   "source": [
    "#import tensorflow as tf\n",
    "#from tensorflow.keras.backend import set_session\n",
    "#config = tf.ConfigProto()\n",
    "#config.gpu_options.allow_growth = True  # hacer que la memoria usada del GPU crezca dinamicamente \n",
    "#sess = tf.Session(config = config)\n",
    "#set_session(sess)  # hacer que esta sesión de TensorFlow sea la sesión default de Keras"
   ]
  },
  {
   "cell_type": "code",
   "execution_count": 19,
   "metadata": {},
   "outputs": [],
   "source": [
    "# Primero, ver si hay un GPU disponible y configurar el crecimiento de memoria para evitar problemas de memoria\n",
    "gpus = tf.config.experimental.list_physical_devices('GPU')\n",
    "if gpus:\n",
    "    try:\n",
    "        # Actualmente, el crecimiento de memoraria necesita ser igual en todas las GPUs\n",
    "        for gpu in gpus:\n",
    "            tf.config.experimental.set_memory_growth(gpu, True)\n",
    "    except RuntimeError as e:\n",
    "        print(e)"
   ]
  },
  {
   "cell_type": "markdown",
   "metadata": {
    "id": "ZdqGjhaiPbBh"
   },
   "source": [
    "Ahora sí, a iniciar el entrenamiento.  Aún con una GPU se tardará bastante tiempo!"
   ]
  },
  {
   "cell_type": "code",
   "execution_count": 20,
   "metadata": {},
   "outputs": [],
   "source": [
    "# Agregar detención temprana para monitorear el entrenamiento\n",
    "detencion_temprana = tf.keras.callbacks.EarlyStopping(\n",
    "    monitor = 'val_loss',\n",
    "    patience = 3,\n",
    "    verbose = 1\n",
    ")"
   ]
  },
  {
   "cell_type": "code",
   "execution_count": null,
   "metadata": {
    "colab": {
     "base_uri": "https://localhost:8080/"
    },
    "id": "CIqVu_VEPbBh",
    "outputId": "31808fcc-3698-4863-e3dc-c4ddfb080be6",
    "scrolled": true
   },
   "outputs": [
    {
     "name": "stdout",
     "output_type": "stream",
     "text": [
      "---- Modelo Orignial ----\n",
      "\n"
     ]
    },
    {
     "ename": "NameError",
     "evalue": "name 'detencion_temprana' is not defined",
     "output_type": "error",
     "traceback": [
      "\u001b[1;31m---------------------------------------------------------------------------\u001b[0m",
      "\u001b[1;31mNameError\u001b[0m                                 Traceback (most recent call last)",
      "Cell \u001b[1;32mIn[14], line 9\u001b[0m\n\u001b[0;32m      1\u001b[0m \u001b[38;5;28mprint\u001b[39m(\u001b[38;5;124m\"\u001b[39m\u001b[38;5;124m---- Modelo Orignial ----\u001b[39m\u001b[38;5;130;01m\\n\u001b[39;00m\u001b[38;5;124m\"\u001b[39m)\n\u001b[0;32m      2\u001b[0m historia_og \u001b[38;5;241m=\u001b[39m modelo_original\u001b[38;5;241m.\u001b[39mfit(\n\u001b[0;32m      3\u001b[0m     X_train, \n\u001b[0;32m      4\u001b[0m     y_train,\n\u001b[0;32m      5\u001b[0m     batch_size \u001b[38;5;241m=\u001b[39m \u001b[38;5;241m64\u001b[39m,  \u001b[38;5;66;03m# Puede ajustarse de acuerdo a la memoria de GPU disponible \u001b[39;00m\n\u001b[0;32m      6\u001b[0m     epochs \u001b[38;5;241m=\u001b[39m \u001b[38;5;241m15\u001b[39m,\n\u001b[0;32m      7\u001b[0m     verbose \u001b[38;5;241m=\u001b[39m \u001b[38;5;241m1\u001b[39m,     \n\u001b[0;32m      8\u001b[0m     validation_data \u001b[38;5;241m=\u001b[39m (X_test, y_test),\n\u001b[1;32m----> 9\u001b[0m     callbacks \u001b[38;5;241m=\u001b[39m [\u001b[43mdetencion_temprana\u001b[49m]\n\u001b[0;32m     10\u001b[0m )\n",
      "\u001b[1;31mNameError\u001b[0m: name 'detencion_temprana' is not defined"
     ]
    }
   ],
   "source": [
    "# 1. Definir modelo\n",
    "modelo_original = Sequential([\n",
    "    Embedding(50000, 128),\n",
    "    LSTM(128, dropout=0.2, recurrent_dropout=0.2),\n",
    "    Dense(1, activation='sigmoid')\n",
    "])\n",
    "\n",
    "# 2. Compilar secuencia\n",
    "modelo_original.compile(loss='binary_crossentropy',\n",
    "              optimizer='adam',\n",
    "              metrics=['accuracy'])\n",
    "\n",
    "# 3. Entrenar\n",
    "print(\"---- Modelo Orignial ----\\n\")\n",
    "historia_og = modelo_original.fit(\n",
    "    X_train, \n",
    "    y_train,\n",
    "    batch_size = 64,  # Puede ajustarse de acuerdo a la memoria de GPU disponible \n",
    "    epochs = 4, # Para ahorrar el early stopping\n",
    "    verbose = 1,     \n",
    "    validation_data = (X_test, y_test)\n",
    ")\n"
   ]
  },
  {
   "cell_type": "code",
   "execution_count": 21,
   "metadata": {},
   "outputs": [
    {
     "name": "stdout",
     "output_type": "stream",
     "text": [
      "Val: (7500, 80) (7500,)\n"
     ]
    }
   ],
   "source": [
    "# New split\n",
    "separation_point = round(len(X_test) * 0.3)\n",
    "X_val = X_test[:separation_point]\n",
    "y_val = y_test[:separation_point]\n",
    "\n",
    "print(\"Val:\",X_val.shape, y_val.shape)\n"
   ]
  },
  {
   "cell_type": "code",
   "execution_count": 57,
   "metadata": {},
   "outputs": [
    {
     "name": "stdout",
     "output_type": "stream",
     "text": [
      "---- Modelo Nuevo ----\n",
      "\n",
      "Epoch 1/4\n",
      "\u001b[1m391/391\u001b[0m \u001b[32m━━━━━━━━━━━━━━━━━━━━\u001b[0m\u001b[37m\u001b[0m \u001b[1m57s\u001b[0m 131ms/step - accuracy: 0.6109 - loss: 1.0222 - val_accuracy: 0.8073 - val_loss: 0.4566\n",
      "Epoch 2/4\n",
      "\u001b[1m391/391\u001b[0m \u001b[32m━━━━━━━━━━━━━━━━━━━━\u001b[0m\u001b[37m\u001b[0m \u001b[1m52s\u001b[0m 132ms/step - accuracy: 0.8588 - loss: 0.3901 - val_accuracy: 0.7832 - val_loss: 0.4916\n",
      "Epoch 3/4\n",
      "\u001b[1m391/391\u001b[0m \u001b[32m━━━━━━━━━━━━━━━━━━━━\u001b[0m\u001b[37m\u001b[0m \u001b[1m51s\u001b[0m 130ms/step - accuracy: 0.9068 - loss: 0.2866 - val_accuracy: 0.7997 - val_loss: 0.4703\n",
      "Epoch 4/4\n",
      "\u001b[1m391/391\u001b[0m \u001b[32m━━━━━━━━━━━━━━━━━━━━\u001b[0m\u001b[37m\u001b[0m \u001b[1m53s\u001b[0m 135ms/step - accuracy: 0.9322 - loss: 0.2254 - val_accuracy: 0.7999 - val_loss: 0.5215\n"
     ]
    }
   ],
   "source": [
    "from tensorflow.keras.layers import Dropout, Attention, GlobalAveragePooling1D\n",
    "from tensorflow.keras import Input, Model\n",
    "# Definicion de Modelo\n",
    "\n",
    "inputs = Input(shape=(None,))\n",
    "x = Embedding(50000,32)(inputs)\n",
    "x = LSTM(32, dropout=0.2, recurrent_dropout=0.2,\n",
    "            kernel_regularizer=regularizers.l2(1e-2),\n",
    "            return_sequences=True)(x)\n",
    "x = LSTM(16, dropout=0.2, recurrent_dropout=0.2,\n",
    "                        kernel_regularizer=regularizers.l2(1e-2),\n",
    "                        return_sequences=True)(x)\n",
    "attention = Attention()([x,x])\n",
    "x = GlobalAveragePooling1D()(attention)\n",
    "x = Dense(16, activation='relu')(x)\n",
    "x = Dropout(0.4)(x)\n",
    "outputs = Dense(1, activation='sigmoid')(x)\n",
    "\n",
    "modelo_nuevo = Model(inputs, outputs)\n",
    "# modelo_nuevo = Sequential([\n",
    "#     # Embedding\n",
    "#     Embedding(50000, 32),\n",
    "#     LSTM(32, dropout=0.2, recurrent_dropout=0.2,\n",
    "#             kernel_regularizer=regularizers.l2(1e-3),\n",
    "#             return_sequences=True),\n",
    "#     LSTM(32, dropout=0.2, recurrent_dropout=0.2,\n",
    "#                         kernel_regularizer=regularizers.l2(1e-3)),\n",
    "#     Dense(16, activation='relu'),\n",
    "#     Dropout(0.4),\n",
    "#     Dense(1, activation='sigmoid')\n",
    "# ])\n",
    "\n",
    "# 2. Compilar secuencia\n",
    "modelo_nuevo.compile(loss='binary_crossentropy',\n",
    "              optimizer='adam',\n",
    "              metrics=['accuracy'])\n",
    "\n",
    "# 3. Entrenar\n",
    "print(\"---- Modelo Nuevo ----\\n\")\n",
    "historia_new = modelo_nuevo.fit(\n",
    "    X_train, \n",
    "    y_train,\n",
    "    batch_size = 64, \n",
    "    epochs = 4,\n",
    "    verbose = 1,     \n",
    "    validation_data = (X_val, y_val)\n",
    ")"
   ]
  },
  {
   "cell_type": "code",
   "execution_count": 26,
   "metadata": {},
   "outputs": [],
   "source": [
    "modelo_nuevo.save(\"model_new.keras\")"
   ]
  },
  {
   "cell_type": "code",
   "execution_count": null,
   "metadata": {},
   "outputs": [],
   "source": [
    "modelo_original.save(\"model_og.keras\")\n",
    "modelo_nuevo.save(\"model_new.keras\")"
   ]
  },
  {
   "cell_type": "markdown",
   "metadata": {},
   "source": [
    "## Comparacion"
   ]
  },
  {
   "cell_type": "code",
   "execution_count": 27,
   "metadata": {},
   "outputs": [
    {
     "data": {
      "image/png": "[encoded data removed]",
      "text/plain": [
       "<Figure size 640x480 with 1 Axes>"
      ]
     },
     "metadata": {},
     "output_type": "display_data"
    }
   ],
   "source": [
    "# Después del entrenamiento se puede revisar el historial\n",
    "from matplotlib import pyplot as plt\n",
    "import numpy as np\n",
    "\n",
    "# plt.title(\"Curva de Aprendizaje - Modelo Original\")\n",
    "# plt.plot(np.arange(0,4), historia_og.history[\"loss\"], label=\"Training Loss\")\n",
    "# plt.plot(np.arange(0,4), historia_og.history[\"val_loss\"], label=\"Validation Loss\")\n",
    "# plt.xlabel(\"Epoca\")\n",
    "# plt.ylabel(\"Perdida\")\n",
    "# plt.legend()\n",
    "# plt.show()\n",
    "\n",
    "plt.title(\"Curva de Aprendizaje - Modelo Optimizado\")\n",
    "plt.plot(np.arange(0,4), historia_new.history[\"loss\"], label=\"Training Loss\")\n",
    "plt.plot(np.arange(0,4), historia_new.history[\"val_loss\"], label=\"Validation Loss\")\n",
    "plt.xlabel(\"Epoca\")\n",
    "plt.ylabel(\"Perdida\")\n",
    "plt.legend()\n",
    "plt.show()"
   ]
  },
  {
   "cell_type": "markdown",
   "metadata": {
    "id": "Njb4BIEyPbBh"
   },
   "source": [
    "**NOTA:** Si se entrenó el modelo en esta sesión y se desea guardar para otra aplicación o uso futuro, Ejecute la instrucción de la siguiente celda.  Si no lo entrenó en esta sesión, omita la ejecución. \n",
    "\n",
    "(En mi Mac con procesador M2, se tardo aprox 16 hrs)"
   ]
  },
  {
   "cell_type": "markdown",
   "metadata": {},
   "source": [
    "**NOTA:** Si no se entrenó el modelo en esta sesión, pero lo tiene guardado, puede ejecutar la instrucciones de la siguiente celda."
   ]
  },
  {
   "cell_type": "code",
   "execution_count": 33,
   "metadata": {
    "id": "mBG9S2-JPbBi"
   },
   "outputs": [],
   "source": [
    "from tensorflow.keras.models import load_model\n",
    "modelo_original = load_model(\"model_og.keras\")\n",
    "modelo_original.compile(loss='binary_crossentropy',\n",
    "              optimizer='adam',\n",
    "              metrics=['accuracy'])"
   ]
  },
  {
   "cell_type": "markdown",
   "metadata": {},
   "source": [
    "OK, ahora a evaluar la exactitud del modelo:"
   ]
  },
  {
   "cell_type": "code",
   "execution_count": 54,
   "metadata": {
    "colab": {
     "base_uri": "https://localhost:8080/"
    },
    "id": "OLehygHpPbBi",
    "outputId": "22f98634-7fa3-4c1c-f709-9247286572dd"
   },
   "outputs": [
    {
     "name": "stdout",
     "output_type": "stream",
     "text": [
      "391/391 - 34s - 88ms/step - accuracy: 0.8215 - loss: 0.5341\n",
      "\n",
      "---- Modelo Orignial ----\n",
      "Pérdida de la Prueba: 0.5340715646743774\n",
      "Exactitud de la Prueba (Test accuracy): 0.8215199708938599\n",
      "391/391 - 13s - 32ms/step - accuracy: 0.8079 - loss: 0.5028\n",
      "\n",
      "---- Modelo Optimizado ----\n",
      "Pérdida de la Prueba: 0.5027666091918945\n",
      "Exactitud de la Prueba (Test accuracy): 0.8078799843788147\n"
     ]
    }
   ],
   "source": [
    "\n",
    "perdida, exactitud = modelo_original.evaluate(X_test, y_test,\n",
    "                            batch_size = 64,\n",
    "                            verbose = 2)\n",
    "print(\"\\n---- Modelo Orignial ----\")\n",
    "print('Pérdida de la Prueba:', perdida)\n",
    "print('Exactitud de la Prueba (Test accuracy):', exactitud)\n",
    "\n",
    "perdida, exactitud = modelo_nuevo.evaluate(X_test, y_test,\n",
    "                            batch_size = 64,\n",
    "                            verbose = 2)\n",
    "print(\"\\n---- Modelo Optimizado ----\")\n",
    "print('Pérdida de la Prueba:', perdida)\n",
    "print('Exactitud de la Prueba (Test accuracy):', exactitud)"
   ]
  },
  {
   "cell_type": "markdown",
   "metadata": {
    "id": "4-nY4JR8PbBi"
   },
   "source": [
    "Cerca del 80%, no está mal considerando que se limitó el ejercicio a las primeras 80 palabras de cada crítica.\n",
    "\n",
    "Hay que pensar en lo que se hizo en este ejercicio!  Una red neuronal que puede leer críticas y deducir si al autor le gustó la película o no, basado en el texto.  Y el modelo toma en cuenta el contexto y la posición de cada palabra.\n",
    "\n",
    "Lo mejor de todo es que armar el modelo solamente requirió de algunas líneas de código!  Es increíble lo que se puede hacer con Keras!!!"
   ]
  },
  {
   "cell_type": "markdown",
   "metadata": {
    "id": "f2q_b2vPFIMs"
   },
   "source": [
    "### Ver algo de las críticas\n",
    "\n",
    "Del enlace provisto arriba, se obtuvo el siguiente código que permite ver el texto del primero de los comentarios.  No sería dificil verlos todos si se quisiera."
   ]
  },
  {
   "cell_type": "code",
   "execution_count": 25,
   "metadata": {
    "colab": {
     "base_uri": "https://localhost:8080/"
    },
    "id": "P8vKFX_NPbBi",
    "outputId": "aa31d3ba-3867-4e5c-e1d6-431931d38d37"
   },
   "outputs": [
    {
     "name": "stdout",
     "output_type": "stream",
     "text": [
      "Downloading data from https://storage.googleapis.com/tensorflow/tf-keras-datasets/imdb_word_index.json\n",
      "1641221/1641221 [==============================] - 0s 0us/step\n"
     ]
    }
   ],
   "source": [
    "# Use the default parameters to keras.datasets.imdb.load_data\n",
    "start_char = 1\n",
    "oov_char = 2\n",
    "index_from = 3\n",
    "# Retrieve the training sequences.\n",
    "(X_train, _), _ = tf.keras.datasets.imdb.load_data(\n",
    "    start_char=start_char, oov_char=oov_char, index_from=index_from\n",
    ")\n",
    "# Retrieve the word index file mapping words to indices\n",
    "word_index = tf.keras.datasets.imdb.get_word_index()\n",
    "# Reverse the word index to obtain a dict mapping indices to words\n",
    "# And add `index_from` to indices to sync with `x_train`\n",
    "inverted_word_index = dict(\n",
    "    (i + index_from, word) for (word, i) in word_index.items()\n",
    ")\n",
    "# Update `inverted_word_index` to include `start_char` and `oov_char`\n",
    "inverted_word_index[start_char] = \"[START]\"\n",
    "inverted_word_index[oov_char] = \"[OOV]\"\n",
    "# Decode the first sequence in the dataset\n",
    "decoded_sequence = \" \".join(inverted_word_index[i] for i in X_train[0])"
   ]
  },
  {
   "cell_type": "code",
   "execution_count": 26,
   "metadata": {
    "colab": {
     "base_uri": "https://localhost:8080/",
     "height": 196
    },
    "id": "2M7XZKKTgkDs",
    "outputId": "2f1ab304-da22-40c2-e731-942fdd0cb905"
   },
   "outputs": [
    {
     "data": {
      "text/plain": [
       "\"[START] this film was just brilliant casting location scenery story direction everyone's really suited the part they played and you could just imagine being there robert redford's is an amazing actor and now the same being director norman's father came from the same scottish island as myself so i loved the fact there was a real connection with this film the witty remarks throughout the film were great it was just brilliant so much that i bought the film as soon as it was released for retail and would recommend it to everyone to watch and the fly fishing was amazing really cried at the end it was so sad and you know what they say if you cry at a film it must have been good and this definitely was also congratulations to the two little boy's that played the part's of norman and paul they were just brilliant children are often left out of the praising list i think because the stars that play them all grown up are such a big profile for the whole film but these children are amazing and should be praised for what they have done don't you think the whole story was so lovely because it was true and was someone's life after all that was shared with us all\""
      ]
     },
     "execution_count": 26,
     "metadata": {},
     "output_type": "execute_result"
    }
   ],
   "source": [
    "decoded_sequence"
   ]
  },
  {
   "cell_type": "markdown",
   "metadata": {},
   "source": [
    "## Confusion"
   ]
  },
  {
   "cell_type": "code",
   "execution_count": 35,
   "metadata": {},
   "outputs": [
    {
     "name": "stdout",
     "output_type": "stream",
     "text": [
      "\u001b[1m782/782\u001b[0m \u001b[32m━━━━━━━━━━━━━━━━━━━━\u001b[0m\u001b[37m\u001b[0m \u001b[1m83s\u001b[0m 105ms/step\n"
     ]
    },
    {
     "data": {
      "image/png": "[encoded data removed]",
      "text/plain": [
       "<Figure size 400x300 with 2 Axes>"
      ]
     },
     "metadata": {},
     "output_type": "display_data"
    }
   ],
   "source": [
    "from sklearn.metrics import confusion_matrix\n",
    "import seaborn as sns\n",
    "y_pred2= modelo_nuevo.predict(X_test)\n",
    "y_pred2 = [1 if p >=0.5 else 0 for p in y_pred2]\n",
    "cm2 = confusion_matrix(y_test, y_pred2)\n",
    "plt.figure(figsize=(4,3))\n",
    "plt.title(\"Matriz de Confusion - Modelo Optimizado\")\n",
    "sns.heatmap(cm2, annot=True, fmt=\"d\", cmap=\"Blues\",\n",
    "            xticklabels=[\"Negativo\",\"Positivo\"],\n",
    "            yticklabels=[\"Negativo\",\"Positivo\"])\n",
    "plt.xlabel(\"Predicted\")\n",
    "plt.ylabel(\"True\")\n",
    "plt.show()"
   ]
  },
  {
   "cell_type": "code",
   "execution_count": 74,
   "metadata": {
    "id": "1PXwh2Tbgos7"
   },
   "outputs": [
    {
     "name": "stdout",
     "output_type": "stream",
     "text": [
      "\u001b[1m782/782\u001b[0m \u001b[32m━━━━━━━━━━━━━━━━━━━━\u001b[0m\u001b[37m\u001b[0m \u001b[1m26s\u001b[0m 33ms/step\n",
      "\u001b[1m782/782\u001b[0m \u001b[32m━━━━━━━━━━━━━━━━━━━━\u001b[0m\u001b[37m\u001b[0m \u001b[1m28s\u001b[0m 35ms/step\n"
     ]
    }
   ],
   "source": [
    "y_pred1 = modelo_original.predict(X_test)\n",
    "y_pred1 = [1 if p >=0.5 else 0 for p in y_pred1]\n",
    "\n",
    "y_pred2= modelo_nuevo.predict(X_test)\n",
    "y_pred2 = [1 if p >=0.5 else 0 for p in y_pred2]"
   ]
  },
  {
   "cell_type": "code",
   "execution_count": 75,
   "metadata": {},
   "outputs": [
    {
     "data": {
      "image/png": "[encoded data removed]",
      "text/plain": [
       "<Figure size 400x300 with 2 Axes>"
      ]
     },
     "metadata": {},
     "output_type": "display_data"
    },
    {
     "data": {
      "image/png": "[encoded data removed]",
      "text/plain": [
       "<Figure size 400x300 with 2 Axes>"
      ]
     },
     "metadata": {},
     "output_type": "display_data"
    }
   ],
   "source": [
    "from sklearn.metrics import confusion_matrix\n",
    "import seaborn as sns\n",
    "\n",
    "cm1 = confusion_matrix(y_test, y_pred1)\n",
    "plt.figure(figsize=(4,3))\n",
    "plt.title(\"Matriz de Confusion - Modelo Original\")\n",
    "sns.heatmap(cm1, annot=True, fmt=\"d\", cmap=\"Blues\",\n",
    "            xticklabels=[\"Negativo\",\"Positivo\"],\n",
    "            yticklabels=[\"Negativo\",\"Positivo\"])\n",
    "plt.xlabel(\"Predicted\")\n",
    "plt.ylabel(\"True\")\n",
    "plt.show()\n",
    "\n",
    "cm2 = confusion_matrix(y_test, y_pred1)\n",
    "plt.figure(figsize=(4,3))\n",
    "plt.title(\"Matriz de Confusion - Modelo Optimizado\")\n",
    "sns.heatmap(cm2, annot=True, fmt=\"d\", cmap=\"Blues\",\n",
    "            xticklabels=[\"Negativo\",\"Positivo\"],\n",
    "            yticklabels=[\"Negativo\",\"Positivo\"])\n",
    "plt.xlabel(\"Predicted\")\n",
    "plt.ylabel(\"True\")\n",
    "plt.show()"
   ]
  }
 ],
 "metadata": {
  "colab": {
   "collapsed_sections": [],
   "provenance": []
  },
  "kernelspec": {
   "display_name": "Python 3",
   "language": "python",
   "name": "python3"
  },
  "language_info": {
   "codemirror_mode": {
    "name": "ipython",
    "version": 3
   },
   "file_extension": ".py",
   "mimetype": "text/x-python",
   "name": "python",
   "nbconvert_exporter": "python",
   "pygments_lexer": "ipython3",
   "version": "3.12.2"
  }
 },
 "nbformat": 4,
 "nbformat_minor": 4
}
